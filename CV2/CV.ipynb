{
 "cells": [
  {
   "cell_type": "markdown",
   "metadata": {},
   "source": [
    "* pip install opencv-python\n",
    "* pip install imutils\n",
    "* pip install pytesseract"
   ]
  },
  {
   "cell_type": "code",
   "execution_count": 1,
   "metadata": {},
   "outputs": [],
   "source": [
    "import numpy as np\n",
    "import cv2\n",
    "import uuid\n",
    "\n",
    "cap = cv2.VideoCapture(0)\n",
    "\n",
    "while(True):\n",
    "    ret, frame = cap.read()\n",
    "    gray = cv2.cvtColor(frame, cv2.COLOR_BGR2GRAY)\n",
    "    cv2.imshow('frame',gray)\n",
    "    \n",
    "    #unique_filename = str(uuid.uuid4())+'.jpg'\n",
    "    #cv2.imwrite(unique_filename, gray)\n",
    "    \n",
    "    if cv2.waitKey(1) & 0xFF == ord('q'):\n",
    "        break\n",
    "\n",
    "cap.release()\n",
    "cv2.destroyAllWindows()"
   ]
  },
  {
   "cell_type": "code",
   "execution_count": 6,
   "metadata": {},
   "outputs": [],
   "source": [
    "import numpy as np\n",
    "import cv2\n",
    "import imutils\n",
    "\n",
    "gray_img = cv2.imread('img/squirrel.jpg', 0)\n",
    "rgb_img = cv2.imread('img/squirrel.jpg', 1)\n",
    "\n",
    "cv2.imshow('origin image', imutils.resize(rgb_img, 800))\n",
    "cv2.imshow('gray image', imutils.resize(gray_img, 800))\n",
    "if cv2.waitKey(0) == 27:    #ESC\n",
    "    cv2.destroyAllWindows()"
   ]
  },
  {
   "cell_type": "code",
   "execution_count": 1,
   "metadata": {},
   "outputs": [
    {
     "name": "stdout",
     "output_type": "stream",
     "text": [
      "BG#224-NZ\n"
     ]
    },
    {
     "data": {
      "text/plain": [
       "-1"
      ]
     },
     "execution_count": 1,
     "metadata": {},
     "output_type": "execute_result"
    }
   ],
   "source": [
    "    import numpy as np\n",
    "    import cv2\n",
    "    import imutils\n",
    "    import sys\n",
    "    import pytesseract\n",
    "    import pandas as pd\n",
    "    import time\n",
    "    \n",
    "        #Add this line to assert the path. Else TesseractNotFoundError will be raised.\n",
    "    pytesseract.pytesseract.tesseract_cmd = r\"C:\\Program Files\\Tesseract-OCR\\tesseract.exe\"\n",
    "    #Read the original image.\n",
    "    img = cv2.imread(\"img/Car_Image_1.jpg\")\n",
    "    #Using imutils to resize the image.\n",
    "    img = imutils.resize(img, width=500)\n",
    "\n",
    "    cv2.imshow(\"Original Image\", img)  #Show the original image\n",
    "    cv2.waitKey(0)\n",
    "\n",
    "    #Convert from colored to Grayscale.\n",
    "    gray_img = cv2.cvtColor(img, cv2.COLOR_BGR2GRAY)\n",
    "    cv2.imshow(\"Preprocess 1 - Grayscale Conversion\", gray_img)        #Show modification.\n",
    "    cv2.waitKey(0)\n",
    "\n",
    "    #Applying Bilateral Filter on the grayscale image.\n",
    "    '''Bilateral Filter : A bilateral filter is a non-linear, edge-preserving,\n",
    "    and noise-reducing smoothing filter for images.\n",
    "    It replaces the intensity of each pixel with a weighted average of intensity values from nearby pixels.'''\n",
    "    #It will remove noise while preserving the edges. So, the number plate remains distinct.\n",
    "    gray_img = cv2.bilateralFilter(gray_img, 11, 17, 17)\n",
    "    cv2.imshow(\"Preprocess 2 - Bilateral Filter\", gray_img)    #Showing the preprocessed image.\n",
    "    cv2.waitKey(0)\n",
    "\n",
    "    '''Canny Edge detector : The Process of Canny edge detection algorithm can be broken down to 5 different steps:\n",
    "\n",
    "    1. Apply Gaussian filter to smooth the image in order to remove the noise\n",
    "    2. Find the intensity gradients of the image\n",
    "    3. Apply non-maximum suppression to get rid of spurious response to edge detection\n",
    "    4. Apply double threshold to determine potential edges\n",
    "    5. Track edge by hysteresis: Finalize the detection of edges by suppressing all the other edges that are weak and not connected to strong edges.'''\n",
    "    #Finding edges of the grayscale image.\n",
    "    c_edge = cv2.Canny(gray_img, 170, 200)\n",
    "    cv2.imshow(\"Preprocess 3 - Canny Edges\", c_edge)        #Showing the preprocessed image.\n",
    "    cv2.waitKey(0)\n",
    "\n",
    "    #Finding contours based on edges detected.\n",
    "    cnt, new = cv2.findContours(c_edge, cv2.RETR_LIST, cv2.CHAIN_APPROX_SIMPLE)\n",
    "    #Storing the top 30 edges based on priority\n",
    "    cnt = sorted(cnt, key = cv2.contourArea, reverse = True)[:30]\n",
    "    NumberPlateCount = None\n",
    "\n",
    "    im2 = img.copy()\n",
    "    cv2.drawContours(im2, cnt, -1, (0,255,0), 3)\n",
    "    cv2.imshow(\"Top 30 Contours\", im2)          #Show the top 30 contours.\n",
    "    cv2.waitKey(0)\n",
    "\n",
    "    count = 0\n",
    "    for c in cnt:\n",
    "        perimeter = cv2.arcLength(c, True)      #Getting perimeter of each contour\n",
    "        approx = cv2.approxPolyDP(c, 0.02 * perimeter, True)\n",
    "        if len(approx) == 4:            #Selecting the contour with 4 corners/sides.\n",
    "            NumberPlateCount = approx\n",
    "            break\n",
    "\n",
    "    '''A picture can be stored as a numpy array. Thus to mask the unwanted portions of the\n",
    "    picture, we simply convert it to a zeros array.'''\n",
    "    #Masking all other parts, other than the number plate.\n",
    "    masked = np.zeros(gray_img.shape,np.uint8)\n",
    "    new_image = cv2.drawContours(masked,[NumberPlateCount],0,255,-1)\n",
    "    new_image = cv2.bitwise_and(img,img,mask=masked)\n",
    "    cv2.imshow(\"4 - Final_Image\",new_image)     #The final image showing only the number plate.\n",
    "    cv2.waitKey(0)\n",
    "\n",
    "    #Configuration for tesseract\n",
    "    configr = ('-l eng --oem 1 --psm 3')\n",
    "\n",
    "    #Running Tesseract-OCR on final image.\n",
    "    text_no = pytesseract.image_to_string(new_image, config=configr)\n",
    "\n",
    "    #The extracted data is stored in a data file.\n",
    "    data = {'Date': [time.asctime(time.localtime(time.time()))],\n",
    "        'Vehicle_number': [text_no]}\n",
    "\n",
    "    df = pd.DataFrame(data, columns = ['Date', 'Vehicle_number'])\n",
    "    df.to_csv('Dataset_VehicleNo.csv')\n",
    "\n",
    "    #Printing the recognized text as output.\n",
    "    print(text_no)\n",
    "    cv2.waitKey(0)"
   ]
  },
  {
   "cell_type": "code",
   "execution_count": null,
   "metadata": {},
   "outputs": [],
   "source": []
  }
 ],
 "metadata": {
  "kernelspec": {
   "display_name": "Python 3",
   "language": "python",
   "name": "python3"
  },
  "language_info": {
   "codemirror_mode": {
    "name": "ipython",
    "version": 3
   },
   "file_extension": ".py",
   "mimetype": "text/x-python",
   "name": "python",
   "nbconvert_exporter": "python",
   "pygments_lexer": "ipython3",
   "version": "3.6.5"
  }
 },
 "nbformat": 4,
 "nbformat_minor": 2
}
